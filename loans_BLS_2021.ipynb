{
 "cells": [
  {
   "cell_type": "markdown",
   "id": "c54d9429",
   "metadata": {},
   "source": [
    "This notebook is to gather PPP data (2021 loans through March 31), join with BLS QCEW data, and calculate PPP penetration for display on ArcGIS as requested by the SBA"
   ]
  },
  {
   "cell_type": "markdown",
   "id": "cecd1f64",
   "metadata": {},
   "source": [
    "Initial settings; Load PPP data"
   ]
  },
  {
   "cell_type": "code",
   "execution_count": 1,
   "id": "63e5bcbf",
   "metadata": {},
   "outputs": [
    {
     "name": "stdout",
     "output_type": "stream",
     "text": [
      "/Users/aligo/Downloads/FEMA recovery data/PPP_loans_from_SBA/FOIA 2021-04-01/public_up_to_150k_9.csv\n",
      "/Users/aligo/Downloads/FEMA recovery data/PPP_loans_from_SBA/FOIA 2021-04-01/public_up_to_150k_8.csv\n",
      "/Users/aligo/Downloads/FEMA recovery data/PPP_loans_from_SBA/FOIA 2021-04-01/public_150k_plus.csv\n",
      "/Users/aligo/Downloads/FEMA recovery data/PPP_loans_from_SBA/FOIA 2021-04-01/public_up_to_150k_3.csv\n",
      "/Users/aligo/Downloads/FEMA recovery data/PPP_loans_from_SBA/FOIA 2021-04-01/public_up_to_150k_2.csv\n",
      "/Users/aligo/Downloads/FEMA recovery data/PPP_loans_from_SBA/FOIA 2021-04-01/public_up_to_150k_1.csv\n",
      "/Users/aligo/Downloads/FEMA recovery data/PPP_loans_from_SBA/FOIA 2021-04-01/public_up_to_150k_5.csv\n",
      "/Users/aligo/Downloads/FEMA recovery data/PPP_loans_from_SBA/FOIA 2021-04-01/public_up_to_150k_4.csv\n",
      "/Users/aligo/Downloads/FEMA recovery data/PPP_loans_from_SBA/FOIA 2021-04-01/public_up_to_150k_6.csv\n",
      "/Users/aligo/Downloads/FEMA recovery data/PPP_loans_from_SBA/FOIA 2021-04-01/public_up_to_150k_7.csv\n",
      "loans in NE: 421624\n",
      "loans in NE with valid NAICS: 416286\n",
      "Total Number of PPP loans to New England with valid NAICS and Zipcode: 416286\n",
      "Total PPP loan Amount to New England with valid NAICS and Zipcode: 40,606,651,578\n",
      "                                     BorrowerState  CurrentApprovalAmount  \\\n",
      "BusinessType                                                                \n",
      "501(c) – Non Profit except 3,4,6,              2.0           2.501970e+05   \n",
      "501(c)19 – Non Profit Veterans                20.0           2.912820e+05   \n",
      "501(c)3 – Non Profit                         501.0           6.873462e+07   \n",
      "501(c)6 – Non Profit Membership              224.0           2.049108e+07   \n",
      "Cooperative                                  361.0           6.587629e+07   \n",
      "Corporation                               113282.0           1.654869e+10   \n",
      "Employee Stock Ownership Plan(ESOP)           72.0           3.908185e+07   \n",
      "Housing Co-op                                  2.0           1.857950e+04   \n",
      "Independent Contractors                    10074.0           1.175387e+08   \n",
      "Joint Venture                                 56.0           2.895075e+06   \n",
      "Limited  Liability Company(LLC)           119610.0           9.954364e+09   \n",
      "Limited Liability Partnership               3046.0           4.105412e+08   \n",
      "Non-Profit Childcare Center                  343.0           5.711948e+07   \n",
      "Non-Profit Organization                    15563.0           3.243336e+09   \n",
      "Partnership                                 5260.0           5.996264e+08   \n",
      "Professional Association                    2108.0           2.874522e+08   \n",
      "Qualified Joint-Venture (spouses)             14.0           2.216224e+05   \n",
      "Rollover as Business Start-Ups (ROB            1.0           6.300000e+03   \n",
      "Self-Employed Individuals                  13031.0           1.653256e+08   \n",
      "Single Member LLC                            469.0           7.357714e+06   \n",
      "Sole Proprietorship                        80450.0           1.442803e+09   \n",
      "Subchapter S Corporation                   51557.0           7.536581e+09   \n",
      "Tenant in Common                               4.0           1.435880e+05   \n",
      "Tribal Concerns                                1.0           3.161000e+03   \n",
      "Trust                                        189.0           3.333623e+07   \n",
      "UNKNOWN                                       46.0           4.562797e+06   \n",
      "\n",
      "                                     NLoansPercent  LoanAmtPercent  \n",
      "BusinessType                                                        \n",
      "501(c) – Non Profit except 3,4,6,         0.000005    6.161478e-06  \n",
      "501(c)19 – Non Profit Veterans            0.000048    7.173258e-06  \n",
      "501(c)3 – Non Profit                      0.001203    1.692694e-03  \n",
      "501(c)6 – Non Profit Membership           0.000538    5.046236e-04  \n",
      "Cooperative                               0.000867    1.622303e-03  \n",
      "Corporation                               0.272125    4.075365e-01  \n",
      "Employee Stock Ownership Plan(ESOP)       0.000173    9.624494e-04  \n",
      "Housing Co-op                             0.000005    4.575482e-07  \n",
      "Independent Contractors                   0.024200    2.894567e-03  \n",
      "Joint Venture                             0.000135    7.129558e-05  \n",
      "Limited  Liability Company(LLC)           0.287327    2.451412e-01  \n",
      "Limited Liability Partnership             0.007317    1.011020e-02  \n",
      "Non-Profit Childcare Center               0.000824    1.406653e-03  \n",
      "Non-Profit Organization                   0.037385    7.987205e-02  \n",
      "Partnership                               0.012636    1.476671e-02  \n",
      "Professional Association                  0.005064    7.078944e-03  \n",
      "Qualified Joint-Venture (spouses)         0.000034    5.457787e-06  \n",
      "Rollover as Business Start-Ups (ROB       0.000002    1.551470e-07  \n",
      "Self-Employed Individuals                 0.031303    4.071392e-03  \n",
      "Single Member LLC                         0.001127    1.811948e-04  \n",
      "Sole Proprietorship                       0.193257    3.553119e-02  \n",
      "Subchapter S Corporation                  0.123850    1.855997e-01  \n",
      "Tenant in Common                          0.000010    3.536070e-06  \n",
      "Tribal Concerns                           0.000002    7.784439e-08  \n",
      "Trust                                     0.000454    8.209549e-04  \n",
      "UNKNOWN                                   0.000111    1.123658e-04  \n"
     ]
    }
   ],
   "source": [
    "import loans_common2021 as co\n",
    "\n",
    "import pandas as pd\n",
    "import zipfile\n",
    "#from plotnine import *    # python lib to use ggplot\n",
    "from io import BytesIO\n",
    "from urllib.request import urlopen\n",
    "\n",
    "pd.set_option('max_columns', 100)\n",
    "\n",
    "naics = 'NAICS3'\n",
    "excsole = True\n",
    "\n",
    "fpath = '/Users/aligo/Downloads/FEMA recovery data/PPP_loans_from_SBA/'\\\n",
    "                                                    'FOIA 2021-04-01/'\n",
    "loansNE = co.ReadPPPdata(naics, fpath)"
   ]
  },
  {
   "cell_type": "markdown",
   "id": "94c29968",
   "metadata": {},
   "source": [
    "## Exclude loans to sole proprietors, contractors etc"
   ]
  },
  {
   "cell_type": "code",
   "execution_count": 2,
   "id": "74d19e4e",
   "metadata": {},
   "outputs": [],
   "source": [
    "soleprop = ['Independent Contractors' #,'Self-Employed Individuals'\n",
    "            ,'Sole Proprietorship', 'Tenant in Common']\n",
    "loans = loansNE[~loansNE.BusinessType.isin(soleprop)]"
   ]
  },
  {
   "cell_type": "markdown",
   "id": "63476475",
   "metadata": {},
   "source": [
    "## Join County info into each loan "
   ]
  },
  {
   "cell_type": "code",
   "execution_count": 3,
   "id": "ff075e0e",
   "metadata": {},
   "outputs": [
    {
     "name": "stdout",
     "output_type": "stream",
     "text": [
      "unique cities in loan dataset: 3085\n",
      "Unique matches: 1405\n",
      "Unique non-matches: 1680\n"
     ]
    },
    {
     "name": "stderr",
     "output_type": "stream",
     "text": [
      "/Users/aligo/git-repos/FEMA/loans_common2021.py:182: FutureWarning: The default value of regex will change from True to False in a future version.\n",
      "  citycounty['cityc'] = citycounty['NAMELSAD10'].str.replace(pat, '').str.upper().str.strip()\n"
     ]
    },
    {
     "name": "stdout",
     "output_type": "stream",
     "text": [
      "loans in loan dataset: 325758\n",
      "loans with matches: 283427\n",
      "loans non-matches: 42331\n",
      "zip-county pairs in New Englad: 2496\n",
      "zip-county pairs in New England, deduplicated: 2206\n",
      "loans in loan dataset: 325758\n",
      "1st draw loans:  229810\n",
      "2nd draw loans:  95948\n",
      "After ZIP match: loans with matches:  325733\n",
      "After ZIP match: loans non-matches:  25\n",
      "MANUALLY FIX THE COUNTIES IN EXCEL FILE /Users/aligo/Downloads/FEMA recovery data/ppp addresses MISSnosole2021.xlsx\n",
      " AND CHANGE ITS NAME FROM MISS TO MANUAL\n"
     ]
    }
   ],
   "source": [
    "[loans_y, countyfips] = co.MatchCounties(loans, excsole, naics)"
   ]
  },
  {
   "cell_type": "markdown",
   "id": "a165e928",
   "metadata": {},
   "source": [
    "### EXECUTE THIS COMMAND ONLY AFTER CHECKING THE EXCEL FILE OF UNMATCHED LOANS in Downloads/"
   ]
  },
  {
   "cell_type": "code",
   "execution_count": 4,
   "id": "ec3a65a1",
   "metadata": {},
   "outputs": [
    {
     "name": "stdout",
     "output_type": "stream",
     "text": [
      "loans in loan dataset: 325758\n",
      "loans with matches: 325733\n",
      "loans non-matches: 25\n"
     ]
    }
   ],
   "source": [
    "loansc = co.AddManualCounties(loans_y, excsole, naics)"
   ]
  },
  {
   "cell_type": "markdown",
   "id": "1ff2d651",
   "metadata": {},
   "source": [
    "## TOTAL NUMBER OF BUSINESSES - read total number of businesses from BLS"
   ]
  },
  {
   "cell_type": "code",
   "execution_count": 5,
   "id": "2459e7ed",
   "metadata": {},
   "outputs": [],
   "source": [
    "fpath = '/Users/aligo/Downloads/FEMA recovery data/'\n",
    "zf = zipfile.ZipFile( fpath + '2020_qtrly_singlefile.zip') \n",
    "qcew = pd.read_csv(zf.open('2020.q1-q2.singlefile.csv'), dtype={'area_fips':'object'})\n",
    "# filter\n",
    "idx = (qcew.own_code.eq(5) & qcew.qtr.eq(1) & # private, FIRST quarter only\n",
    "         qcew['area_fips'].isin(countyfips['COUNTY'].tolist()))   # NE only\n",
    "if (naics == 'NAICS2'):\n",
    "    idx = idx & ((qcew['industry_code'].str.len().eq(2)   # 2-digit NAICS\n",
    "            | qcew['industry_code'].str.match('\\d\\d-\\d\\d'))    # 2-digit NAICS that are joint, e.g. NAICS 31-33 Manufacturing\n",
    "          & ~qcew['industry_code'].eq('10') )      # exclude code = 10 that are \"ALL Naics\" totals\n",
    "else:\n",
    "    idx = idx & (qcew['industry_code'].str.len().eq(3)   # 3-digit NAICS\n",
    "          & ~qcew['industry_code'].str.startswith('10') )      # exclude code = 10 that are \"ALL Naics\" totals\n",
    "    \n",
    "cnt = qcew[idx]  # New England counties\n",
    "cnt = cnt[['area_fips','industry_code','qtrly_estabs']]\n",
    "# Add state and county name\n",
    "cnt = cnt.set_index('area_fips').join(countyfips.set_index('COUNTY')).reset_index()\n",
    "# Join Total Num businesses + Num of loans\n",
    "cnt.columns = ['COUNTYfips',naics,'NEstabs','State','COUNTYName']"
   ]
  },
  {
   "cell_type": "markdown",
   "id": "1efd1c74",
   "metadata": {},
   "source": [
    "### Subset scope of loans draws and calculate penetration; change from 1st draw (2020+2021) to 2nd draw"
   ]
  },
  {
   "cell_type": "code",
   "execution_count": 6,
   "id": "9667d7df",
   "metadata": {},
   "outputs": [
    {
     "name": "stdout",
     "output_type": "stream",
     "text": [
      "*** First draw (2020 and 2021) ***\n",
      "Total Number of PPP loans to New England excluding loans with missing info: 228353.0\n",
      "Total Count of businesses in NE: 496993\n",
      "Total Number of County-NAICS pairs in NE with existing businesses: 5221\n",
      "Previous Number with penetration > 1: 654\n",
      "Previous Number with penetration = 0: 8\n",
      "*** First draw (2020 only) ***\n",
      "Total Number of PPP loans to New England excluding loans with missing info: 210651.0\n",
      "Total Count of businesses in NE: 496993\n",
      "Total Number of County-NAICS pairs in NE with existing businesses: 5221\n",
      "Previous Number with penetration > 1: 530\n",
      "Previous Number with penetration = 0: 8\n",
      "*** Second draw (2021) ***\n",
      "Total Number of PPP loans to New England excluding loans with missing info: 95460.0\n",
      "Total Count of businesses in NE: 496993\n",
      "Total Number of County-NAICS pairs in NE with existing businesses: 5221\n",
      "Previous Number with penetration > 1: 65\n",
      "Previous Number with penetration = 0: 0\n",
      "*** Both draws (2021) ***\n",
      "Total Number of PPP loans to New England excluding loans with missing info: 113162.0\n",
      "Total Count of businesses in NE: 496993\n",
      "Total Number of County-NAICS pairs in NE with existing businesses: 5221\n",
      "Previous Number with penetration > 1: 111\n",
      "Previous Number with penetration = 0: 0\n",
      "Penetration table: 3761 County-NAICS pairs with empty zipcode\n",
      "Penetration table: 0 County-NAICS pairs with empty zipcode\n"
     ]
    }
   ],
   "source": [
    "pen = co.CalcPenforScopes(loansc, naics, cnt)"
   ]
  },
  {
   "cell_type": "code",
   "execution_count": 114,
   "id": "6876d4e4",
   "metadata": {},
   "outputs": [],
   "source": [
    "pen.to_csv( '/Users/aligo/Downloads/FEMA recovery data/PPP_loans_from_SBA/PPPpenetration_2021_BLS_' + naics + '.csv' )"
   ]
  },
  {
   "cell_type": "code",
   "execution_count": 7,
   "id": "c62bfb21",
   "metadata": {},
   "outputs": [
    {
     "name": "stdout",
     "output_type": "stream",
     "text": [
      "PPP draw has 229,787 loans with 229,721 unique BorrowerName+ full addr\n",
      "PPS draw has 95,946 loans with 95,934 unique BorrowerName+ full addr\n"
     ]
    }
   ],
   "source": [
    "# clean spaces and uppercase business names, addresses\n",
    "loansc['BorrowerNameC'] = loansc['BorrowerName'].str.upper().str.strip()\n",
    "loansc['BorrowerAddressC'] = loansc['BorrowerAddress'].str.upper().str.strip()\n",
    "loansc['BorrowerCityC'] = loansc['BorrowerCity'].str.upper().str.strip()\n",
    "loansc['Zip5'] = loansc['BorrowerZip'].str.slice(0,5) # first 5 digits of zip\n",
    "\n",
    "# cols to use to uniquely identify loan\n",
    "cols = ['BorrowerNameC','BorrowerAddressC','BorrowerCityC','COUNTYfips','StateAbb','Zip5']\n",
    "\n",
    "# check uniqueness of business name + full address\n",
    "def CheckDuplic(loans, ProcessingMethod):\n",
    "    tmp = loans[loans['ProcessingMethod']==ProcessingMethod]\n",
    "    u = len(tmp[cols].drop_duplicates())\n",
    "    print( f'{ProcessingMethod} draw has {tmp.shape[0]:,} loans with {u:,} unique BorrowerName+ full addr' )\n",
    "\n",
    "    # save duplicates - (TO DO: ASK SBA)\n",
    "    tmp[tmp.duplicated(cols,keep=False)].sort_values(by=['BorrowerNameC']).to_excel(f'/Users/aligo/Downloads/tmp/{ProcessingMethod}_DUPLICATES.xlsx')\n",
    "\n",
    "    # drop duplicates\n",
    "    return tmp.drop_duplicates(subset=cols).sort_values(by=['BorrowerNameC'])\n",
    "\n",
    "loans_draw1 = CheckDuplic(loansc, 'PPP')\n",
    "loans_draw2 = CheckDuplic(loansc, 'PPS')"
   ]
  },
  {
   "cell_type": "code",
   "execution_count": 25,
   "id": "a19d3cff",
   "metadata": {},
   "outputs": [
    {
     "name": "stdout",
     "output_type": "stream",
     "text": [
      "2nd draw loans total 95,934, of which 17,162 find a 1st draw byt an exact match of name and address\n",
      "join consistent? True\n"
     ]
    }
   ],
   "source": [
    "# join loan draws by exact match of 1st and 2nd rounds\n",
    "tmp = loans_draw1.set_index(cols).join(loans_draw2.set_index(cols), how='outer', lsuffix='_1', rsuffix='_2', sort=False)\n",
    "loans_matched = tmp[(tmp['LoanNumber_1'].notna()) & (tmp['LoanNumber_2'].notna())]\n",
    "print( f'2nd draw loans total {loans_draw2.shape[0]:,}, of which {loans_matched.shape[0]:,} find a 1st draw byt an exact match of name and address' )\n",
    "print( f'join consistent? {(loans_draw1.shape[0] + loans_draw2.shape[0] - loans_matched.shape[0]) == tmp.shape[0]}')\n",
    "idx = loans_matched['LoanNumber_1'].tolist() + loans_matched['LoanNumber_2'].tolist()\n",
    "tmp = pd.concat([loans_draw1, loans_draw2])\n",
    "loans_unmatched = tmp[~(tmp.set_index('LoanNumber').index.isin(idx))].reset_index()"
   ]
  },
  {
   "cell_type": "markdown",
   "id": "4bea1846",
   "metadata": {},
   "source": [
    "### Match draws going to the same business"
   ]
  },
  {
   "cell_type": "code",
   "execution_count": 67,
   "id": "eef4bccd",
   "metadata": {},
   "outputs": [
    {
     "name": "stdout",
     "output_type": "stream",
     "text": [
      "ProcessingMethod ['PPP' 'PPS']\n"
     ]
    },
    {
     "name": "stderr",
     "output_type": "stream",
     "text": [
      "/Users/aligo/opt/anaconda3/lib/python3.7/site-packages/recordlinkage/preprocessing/cleaning.py:114: FutureWarning: The default value of regex will change from True to False in a future version.\n",
      "  s = s.str.replace(r'(\\[.*?\\]|\\(.*?\\)|\\{.*?\\})', '')\n",
      "/Users/aligo/opt/anaconda3/lib/python3.7/site-packages/recordlinkage/preprocessing/cleaning.py:118: FutureWarning: The default value of regex will change from True to False in a future version.\n",
      "  s = s.str.replace(replace_by_none, '')\n",
      "/Users/aligo/opt/anaconda3/lib/python3.7/site-packages/recordlinkage/preprocessing/cleaning.py:121: FutureWarning: The default value of regex will change from True to False in a future version.\n",
      "  s = s.str.replace(replace_by_whitespace, ' ')\n",
      "/Users/aligo/opt/anaconda3/lib/python3.7/site-packages/recordlinkage/preprocessing/cleaning.py:124: FutureWarning: The default value of regex will change from True to False in a future version.\n",
      "  s = s.str.replace(r'\\s\\s+', ' ')\n"
     ]
    },
    {
     "name": "stdout",
     "output_type": "stream",
     "text": [
      "212,559 1st draws and 78,772 second draws to match\n",
      "MatchLoanDraws for block ['StateAbb', 'BorrowerCityC'] at 17:13:45; Number of pairs to match: 60,091,622\n",
      "MatchLoanDraws finished at 17:21:44\n"
     ]
    }
   ],
   "source": [
    "features = co.MatchLoanDraws(loans_unmatched)   # matches loans using Probabilistic record linkage with Business name and address"
   ]
  },
  {
   "cell_type": "code",
   "execution_count": 83,
   "id": "e4036dff",
   "metadata": {},
   "outputs": [
    {
     "name": "stdout",
     "output_type": "stream",
     "text": [
      "1003808408\n"
     ]
    }
   ],
   "source": [
    "# features.sum(axis=1).value_counts().sort_index(ascending=False)\n",
    "fscores = features.assign( score = features.sum(axis=1)\n",
    "                         , match = -1 ) # not visited\n",
    "fscores = fscores.sort_index()\n",
    "for n2 in fscores.index.get_level_values(1).unique():\n",
    "    print( n2 )\n",
    "    n2df = fscores.loc[(slice(None), slice(n2)) & fscores['match']==-1,:]\n",
    "    nsdf['match'] = 0 # visited\n",
    "    max_score = nsdf.max()\n",
    "    idx = nsdf[nsdf['score']==max_score]\n",
    "    pen4.loc[pen4['color'] > 1,'color'] = 1\n",
    "    break"
   ]
  },
  {
   "cell_type": "code",
   "execution_count": 28,
   "id": "d95db101",
   "metadata": {},
   "outputs": [],
   "source": [
    "loansmatch.to_csv('/Users/aligo/Downloads/FEMA recovery data/PPPloansNE2021-MatchedDraws.csv')"
   ]
  },
  {
   "cell_type": "code",
   "execution_count": null,
   "id": "6a1b439f",
   "metadata": {},
   "outputs": [],
   "source": [
    "# total per county \n",
    "dfc = pen.groupby(['COUNTYName']).agg('sum').reset_index()\n",
    "dfc['penetration'] = dfc['NLoans'] / dfc['NEstabs']\n",
    "ggplot(dfc, aes(x='reorder(COUNTYName,penetration)', y='penetration')\n",
    "          ) + geom_bar(stat=\"identity\"\n",
    "          ) + xlab('County'\n",
    "          ) + ylab('PPP Loan Penetration'\n",
    "          ) + ggtitle('New England PPP Penetrations per County'\n",
    "          ) + theme(axis_text_y = element_text(size=6)\n",
    "          ) + coord_flip()\n",
    "\n",
    "# total per NAICS\n",
    "dfp = pen.groupby(['NAICS2','NAICSdescr']).agg('sum').reset_index()\n",
    "dfp['penetration'] = dfp['NLoans'] / dfp['NEstabs']\n",
    "\n",
    "ggplot(dfp, aes(x='reorder(NAICSdescr,penetration)', y='penetration')\n",
    "          ) + geom_bar(stat=\"identity\"\n",
    "          ) + xlab('NAICS 2 Digit Sector'\n",
    "          ) + ylab('PPP Loan Penetration'\n",
    "          ) + ggtitle('New England PPP Penetrations per NAICS Sector'\n",
    "#          ) + scale_y_continuous(trans = 'log2'\n",
    "          ) + coord_flip()\n",
    "\n",
    "# Histogram of County-NAICS penetrations\n",
    "ggplot(pen[pen.penetration.le(1)], aes(x='penetration')\n",
    "       ) + geom_histogram(binwidth=.05\n",
    "       ) + xlab('PPP Loan Penetration'\n",
    "       ) + ylab('Number of Counties-Sectors'\n",
    "       ) + ggtitle('Distribution of PPP Penetration <= 1 in New England')\n",
    "\n",
    "# outlier penetrations\n",
    "ggplot(pen, aes(x='State', y='penetration')\n",
    "       ) + geom_boxplot(\n",
    "       ) + xlab('State'\n",
    "       ) + ylab('Penetration'\n",
    "       ) + ggtitle('Outliers of PPP Penetration in New England')\n",
    "\n",
    "\n",
    "\n",
    "\n",
    "\n"
   ]
  }
 ],
 "metadata": {
  "kernelspec": {
   "display_name": "Python 3 (Spyder)",
   "language": "python3",
   "name": "python3"
  },
  "language_info": {
   "codemirror_mode": {
    "name": "ipython",
    "version": 3
   },
   "file_extension": ".py",
   "mimetype": "text/x-python",
   "name": "python",
   "nbconvert_exporter": "python",
   "pygments_lexer": "ipython3",
   "version": "3.7.6"
  }
 },
 "nbformat": 4,
 "nbformat_minor": 5
}
