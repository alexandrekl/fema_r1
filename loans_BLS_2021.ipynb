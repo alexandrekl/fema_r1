{
 "cells": [
  {
   "cell_type": "markdown",
   "id": "b0ddcc4d",
   "metadata": {},
   "source": [
    "This notebook is to gather PPP data (2021 loans through March 31), join with BLS QCEW data, and calculate PPP penetration for display on ArcGIS as requested by the SBA"
   ]
  },
  {
   "cell_type": "markdown",
   "id": "171a70ad",
   "metadata": {},
   "source": [
    "Initial settings; Load PPP data"
   ]
  },
  {
   "cell_type": "code",
   "execution_count": 1,
   "id": "02e658f0",
   "metadata": {},
   "outputs": [
    {
     "name": "stdout",
     "output_type": "stream",
     "text": [
      "/Users/aligo/Downloads/FEMA recovery data/PPP_loans_from_SBA/FOIA 2021-04-01/public_up_to_150k_9.csv\n",
      "/Users/aligo/Downloads/FEMA recovery data/PPP_loans_from_SBA/FOIA 2021-04-01/public_up_to_150k_8.csv\n",
      "/Users/aligo/Downloads/FEMA recovery data/PPP_loans_from_SBA/FOIA 2021-04-01/public_150k_plus.csv\n",
      "/Users/aligo/Downloads/FEMA recovery data/PPP_loans_from_SBA/FOIA 2021-04-01/public_up_to_150k_3.csv\n",
      "/Users/aligo/Downloads/FEMA recovery data/PPP_loans_from_SBA/FOIA 2021-04-01/public_up_to_150k_2.csv\n",
      "/Users/aligo/Downloads/FEMA recovery data/PPP_loans_from_SBA/FOIA 2021-04-01/public_up_to_150k_1.csv\n",
      "/Users/aligo/Downloads/FEMA recovery data/PPP_loans_from_SBA/FOIA 2021-04-01/public_up_to_150k_5.csv\n",
      "/Users/aligo/Downloads/FEMA recovery data/PPP_loans_from_SBA/FOIA 2021-04-01/public_up_to_150k_4.csv\n",
      "/Users/aligo/Downloads/FEMA recovery data/PPP_loans_from_SBA/FOIA 2021-04-01/public_up_to_150k_6.csv\n",
      "/Users/aligo/Downloads/FEMA recovery data/PPP_loans_from_SBA/FOIA 2021-04-01/public_up_to_150k_7.csv\n",
      "loans in NE: 421624\n",
      "loans in NE with valid NAICS: 416286\n",
      "Total Number of PPP loans to New England with valid NAICS and Zipcode: 416286\n",
      "Total PPP loan Amount to New England with valid NAICS and Zipcode: 40,606,651,578\n",
      "                                     BorrowerState  ...  LoanAmtPercent\n",
      "BusinessType                                        ...                \n",
      "501(c) – Non Profit except 3,4,6,              2.0  ...    6.161478e-06\n",
      "501(c)19 – Non Profit Veterans                20.0  ...    7.173258e-06\n",
      "501(c)3 – Non Profit                         501.0  ...    1.692694e-03\n",
      "501(c)6 – Non Profit Membership              224.0  ...    5.046236e-04\n",
      "Cooperative                                  361.0  ...    1.622303e-03\n",
      "Corporation                               113282.0  ...    4.075365e-01\n",
      "Employee Stock Ownership Plan(ESOP)           72.0  ...    9.624494e-04\n",
      "Housing Co-op                                  2.0  ...    4.575482e-07\n",
      "Independent Contractors                    10074.0  ...    2.894567e-03\n",
      "Joint Venture                                 56.0  ...    7.129558e-05\n",
      "Limited  Liability Company(LLC)           119610.0  ...    2.451412e-01\n",
      "Limited Liability Partnership               3046.0  ...    1.011020e-02\n",
      "Non-Profit Childcare Center                  343.0  ...    1.406653e-03\n",
      "Non-Profit Organization                    15563.0  ...    7.987205e-02\n",
      "Partnership                                 5260.0  ...    1.476671e-02\n",
      "Professional Association                    2108.0  ...    7.078944e-03\n",
      "Qualified Joint-Venture (spouses)             14.0  ...    5.457787e-06\n",
      "Rollover as Business Start-Ups (ROB            1.0  ...    1.551470e-07\n",
      "Self-Employed Individuals                  13031.0  ...    4.071392e-03\n",
      "Single Member LLC                            469.0  ...    1.811948e-04\n",
      "Sole Proprietorship                        80450.0  ...    3.553119e-02\n",
      "Subchapter S Corporation                   51557.0  ...    1.855997e-01\n",
      "Tenant in Common                               4.0  ...    3.536070e-06\n",
      "Tribal Concerns                                1.0  ...    7.784439e-08\n",
      "Trust                                        189.0  ...    8.209549e-04\n",
      "UNKNOWN                                       46.0  ...    1.123658e-04\n",
      "\n",
      "[26 rows x 4 columns]\n"
     ]
    }
   ],
   "source": [
    "import loans_common2021 as co\n",
    "\n",
    "import pandas as pd\n",
    "import zipfile\n",
    "from plotnine import *    # python lib to use ggplot\n",
    "from io import BytesIO\n",
    "from urllib.request import urlopen\n",
    "\n",
    "pd.set_option('max_columns', 100)\n",
    "\n",
    "naics = 'NAICS2'\n",
    "excsole = True\n",
    "\n",
    "fpath = '/Users/aligo/Downloads/FEMA recovery data/PPP_loans_from_SBA/'\\\n",
    "                                                    'FOIA 2021-04-01/'\n",
    "loans = co.ReadPPPdata(naics, fpath)"
   ]
  },
  {
   "cell_type": "markdown",
   "id": "70fbe575",
   "metadata": {},
   "source": [
    "### Match draws going to the same business"
   ]
  },
  {
   "cell_type": "code",
   "execution_count": 52,
   "id": "df56d310",
   "metadata": {},
   "outputs": [
    {
     "name": "stdout",
     "output_type": "stream",
     "text": [
      "18:05:04.900829\n",
      "ProcessingMethod ['PPP' 'PPS']\n"
     ]
    },
    {
     "ename": "ValueError",
     "evalue": "index of DataFrame is not unique",
     "output_type": "error",
     "traceback": [
      "Traceback \u001b[0;36m(most recent call last)\u001b[0m:\n",
      "  File \u001b[1;32m\"<ipython-input-52-e38b4b40e717>\"\u001b[0m, line \u001b[1;32m4\u001b[0m, in \u001b[1;35m<module>\u001b[0m\n    tmp = co.MatchLoanDraws(loans)   # matches loans using Probabilistic record linkage with Business name and address\n",
      "  File \u001b[1;32m\"/Users/aligo/git-repos/FEMA/loans_common2021.py\"\u001b[0m, line \u001b[1;32m88\u001b[0m, in \u001b[1;35mMatchLoanDraws\u001b[0m\n    candidates = indexer.index(l1[id_cols], l2[id_cols])\n",
      "  File \u001b[1;32m\"/Users/aligo/opt/anaconda3/lib/python3.7/site-packages/recordlinkage/base.py\"\u001b[0m, line \u001b[1;32m124\u001b[0m, in \u001b[1;35mindex\u001b[0m\n    pairs_i = cl_alg.index(x, x_link)\n",
      "  File \u001b[1;32m\"/Users/aligo/opt/anaconda3/lib/python3.7/site-packages/recordlinkage/base.py\"\u001b[0m, line \u001b[1;32m340\u001b[0m, in \u001b[1;35mindex\u001b[0m\n    self._verify_integrety(df)\n",
      "\u001b[0;36m  File \u001b[0;32m\"/Users/aligo/opt/anaconda3/lib/python3.7/site-packages/recordlinkage/base.py\"\u001b[0;36m, line \u001b[0;32m237\u001b[0;36m, in \u001b[0;35m_verify_integrety\u001b[0;36m\u001b[0m\n\u001b[0;31m    raise ValueError('index of DataFrame is not unique')\u001b[0m\n",
      "\u001b[0;31mValueError\u001b[0m\u001b[0;31m:\u001b[0m index of DataFrame is not unique\n"
     ]
    }
   ],
   "source": [
    "import loans_common2021 as co\n",
    "import datetime\n",
    "print(datetime.datetime.now().time())\n",
    "tmp = co.MatchLoanDraws(loans)   # matches loans using Probabilistic record linkage with Business name and address"
   ]
  },
  {
   "cell_type": "code",
   "execution_count": 28,
   "id": "0245be32",
   "metadata": {},
   "outputs": [],
   "source": [
    "loansmatch.to_csv('/Users/aligo/Downloads/FEMA recovery data/PPPloansNE2021-MatchedDraws.csv')"
   ]
  },
  {
   "cell_type": "markdown",
   "id": "a335c3bc",
   "metadata": {},
   "source": [
    "match county information wherever possible"
   ]
  },
  {
   "cell_type": "code",
   "execution_count": 80,
   "id": "b59bf755",
   "metadata": {},
   "outputs": [
    {
     "name": "stderr",
     "output_type": "stream",
     "text": [
      "/Users/aligo/git-repos/FEMA/loans_common2021.py:109: FutureWarning: The default value of regex will change from True to False in a future version.\n"
     ]
    },
    {
     "name": "stdout",
     "output_type": "stream",
     "text": [
      "unique cities in loan dataset: 2293\n",
      "Unique matches: 1383\n",
      "Unique non-matches: 910\n",
      "loans in loan dataset: 156906\n",
      "loans with matches: 136978\n",
      "loans non-matches: 19928\n",
      "zip-county pairs in New Englad: 2496\n",
      "zip-county pairs in New England, deduplicated: 2206\n",
      "loans in loan dataset: 156906\n",
      "1st draw loans:  41480\n",
      "2nd draw loans:  115426\n",
      "After ZIP match: loans with matches:  156903\n",
      "After ZIP match: loans non-matches:  3\n",
      "MANUALLY FIX THE COUNTIES IN EXCEL FILE /Users/aligo/Downloads/FEMA recovery data/ppp addresses MISSnosole2021.xlsx\n",
      " AND CHANGE ITS NAME FROM MISS TO MANUAL\n"
     ]
    }
   ],
   "source": [
    "\n",
    "loans21 = co.FilterLoans(loans)\n",
    "[loans_y, countyfips] = co.MatchCounties(loans21, excsole, naics)"
   ]
  },
  {
   "cell_type": "markdown",
   "id": "295ee386",
   "metadata": {},
   "source": [
    "### EXECUTE THIS COMMAND ONLY AFTER CHECKING THE EXCEL FILE OF UNMATCHED LOANS in Downloads/"
   ]
  },
  {
   "cell_type": "code",
   "execution_count": null,
   "id": "35fb8471",
   "metadata": {},
   "outputs": [],
   "source": [
    "loansum = co.AddManualCounties(loans_y, excsole, naics)"
   ]
  },
  {
   "cell_type": "markdown",
   "id": "3cd395d5",
   "metadata": {},
   "source": []
  },
  {
   "cell_type": "code",
   "execution_count": null,
   "id": "8f592382",
   "metadata": {},
   "outputs": [],
   "source": [
    "\n",
    "# TOTAL NUMBER OF BUSINESSES - from US Census CBP\n",
    "url = urlopen(\"https://www2.census.gov/programs-surveys/cbp/datasets/2018/cbp18co.zip\")\n",
    "#Download Zipfile and create pandas DataFrame\n",
    "zipfile = zipfile.ZipFile(BytesIO(url.read()))\n",
    "cbp = pd.read_csv(zipfile.open('cbp18co.txt'), na_values='N')\n",
    "\n",
    "cbp['FIPST'] = cbp['fipstate'].astype(str).str.pad(2,fillchar='0')\n",
    "cbp['area_fips'] = cbp['FIPST'] + cbp['fipscty'].astype(str).str.pad(3,fillchar='0')\n",
    "cnt = cbp[cbp['FIPST'].isin(co.NEstfips)    # New England counties\n",
    "          & ~cbp['fipscty'].eq(999)      # exclude fipscty = 999 that are \"statewide\" totals\n",
    "          & cbp['naics'].str.contains('^[0-9][0-9]----',regex=True)]    # 2-digit NAICS codes\n",
    "cnt = cnt.assign( industry_code = cnt['naics'].str.slice(start=0,stop=2) )    # 2-digit NAICS codes, cleaned\n",
    "cnt['NEstabs'] = cnt[['n<5','n5_9','n10_19','n20_49','n50_99','n100_249','n250_499']\n",
    "                     ].sum(axis=1, skipna=True)         # num Establishments with < 500 employees\n",
    "cnt = cnt[['area_fips','industry_code','NEstabs']].set_index('area_fips')\n",
    "# Add state and county name\n",
    "cnt = cnt.join(countyfips.set_index('COUNTY'))\n",
    "\n",
    "# Join Total Num businesses + Num of loans\n",
    "cnt = cnt.reset_index()\n",
    "cnt.columns = ['COUNTYfips','NAICS2','NEstabs','State','COUNTYName']\n",
    "# adjusts 2-digit NAICS that are joint, e.g. NAICS 31-33 Manufacturing\n",
    "cnt = co.OverrideNAICS2(cnt)\n",
    "\n",
    "pen = co.CalcPenetration(loansum, cnt, naics)\n",
    "\n",
    "# total per county \n",
    "dfc = pen.groupby(['COUNTYName']).agg('sum').reset_index()\n",
    "dfc['penetration'] = dfc['NLoans'] / dfc['NEstabs']\n",
    "ggplot(dfc, aes(x='reorder(COUNTYName,penetration)', y='penetration')\n",
    "          ) + geom_bar(stat=\"identity\"\n",
    "          ) + xlab('County'\n",
    "          ) + ylab('PPP Loan Penetration'\n",
    "          ) + ggtitle('New England PPP Penetrations per County'\n",
    "          ) + theme(axis_text_y = element_text(size=6)\n",
    "          ) + coord_flip()\n",
    "\n",
    "# total per NAICS\n",
    "dfp = pen.groupby(['NAICS2','NAICSdescr']).agg('sum').reset_index()\n",
    "dfp['penetration'] = dfp['NLoans'] / dfp['NEstabs']\n",
    "\n",
    "ggplot(dfp, aes(x='reorder(NAICSdescr,penetration)', y='penetration')\n",
    "          ) + geom_bar(stat=\"identity\"\n",
    "          ) + xlab('NAICS 2 Digit Sector'\n",
    "          ) + ylab('PPP Loan Penetration'\n",
    "          ) + ggtitle('New England PPP Penetrations per NAICS Sector'\n",
    "#          ) + scale_y_continuous(trans = 'log2'\n",
    "          ) + coord_flip()\n",
    "\n",
    "# Histogram of County-NAICS penetrations\n",
    "ggplot(pen[pen.penetration.le(1)], aes(x='penetration')\n",
    "       ) + geom_histogram(binwidth=.05\n",
    "       ) + xlab('PPP Loan Penetration'\n",
    "       ) + ylab('Number of Counties-Sectors'\n",
    "       ) + ggtitle('Distribution of PPP Penetration <= 1 in New England')\n",
    "\n",
    "# outlier penetrations\n",
    "ggplot(pen, aes(x='State', y='penetration')\n",
    "       ) + geom_boxplot(\n",
    "       ) + xlab('State'\n",
    "       ) + ylab('Penetration'\n",
    "       ) + ggtitle('Outliers of PPP Penetration in New England')\n",
    "\n",
    "\n",
    "\n",
    "\n",
    "\n"
   ]
  }
 ],
 "metadata": {
  "kernelspec": {
   "display_name": "Python 3 (Spyder)",
   "language": "python3",
   "name": "python3"
  },
  "language_info": {
   "codemirror_mode": {
    "name": "ipython",
    "version": 3
   },
   "file_extension": ".py",
   "mimetype": "text/x-python",
   "name": "python",
   "nbconvert_exporter": "python",
   "pygments_lexer": "ipython3",
   "version": "3.7.6"
  }
 },
 "nbformat": 4,
 "nbformat_minor": 5
}
