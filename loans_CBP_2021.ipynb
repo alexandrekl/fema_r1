{
 "cells": [
  {
   "cell_type": "markdown",
   "id": "2985684d",
   "metadata": {},
   "source": [
    "This notebook is to gather PPP data (2021 loans through March 31), join with BLS QCEW data, and calculate PPP penetration for display on ArcGIS as requested by the SBA"
   ]
  },
  {
   "cell_type": "markdown",
   "id": "44094c46",
   "metadata": {},
   "source": [
    "Initial settings; Load PPP data"
   ]
  },
  {
   "cell_type": "code",
   "execution_count": 1,
   "id": "6e4f1601",
   "metadata": {},
   "outputs": [
    {
     "name": "stdout",
     "output_type": "stream",
     "text": [
      "/Users/aligo/Downloads/FEMA recovery data/PPP_loans_from_SBA/FOIA 2021-04-01/public_up_to_150k_9.csv\n",
      "/Users/aligo/Downloads/FEMA recovery data/PPP_loans_from_SBA/FOIA 2021-04-01/public_up_to_150k_8.csv\n",
      "/Users/aligo/Downloads/FEMA recovery data/PPP_loans_from_SBA/FOIA 2021-04-01/public_150k_plus.csv\n",
      "/Users/aligo/Downloads/FEMA recovery data/PPP_loans_from_SBA/FOIA 2021-04-01/public_up_to_150k_3.csv\n",
      "/Users/aligo/Downloads/FEMA recovery data/PPP_loans_from_SBA/FOIA 2021-04-01/public_up_to_150k_2.csv\n",
      "/Users/aligo/Downloads/FEMA recovery data/PPP_loans_from_SBA/FOIA 2021-04-01/public_up_to_150k_1.csv\n",
      "/Users/aligo/Downloads/FEMA recovery data/PPP_loans_from_SBA/FOIA 2021-04-01/public_up_to_150k_5.csv\n",
      "/Users/aligo/Downloads/FEMA recovery data/PPP_loans_from_SBA/FOIA 2021-04-01/public_up_to_150k_4.csv\n",
      "/Users/aligo/Downloads/FEMA recovery data/PPP_loans_from_SBA/FOIA 2021-04-01/public_up_to_150k_6.csv\n",
      "/Users/aligo/Downloads/FEMA recovery data/PPP_loans_from_SBA/FOIA 2021-04-01/public_up_to_150k_7.csv\n",
      "loans in NE: 421624\n",
      "loans in NE with valid NAICS: 416286\n",
      "Total Number of PPP loans to New England with valid NAICS and Zipcode: 416286\n",
      "Total PPP loan Amount to New England with valid NAICS and Zipcode: 40,606,651,578\n",
      "                                     BorrowerState  CurrentApprovalAmount  \\\n",
      "BusinessType                                                                \n",
      "501(c) – Non Profit except 3,4,6,              2.0           2.501970e+05   \n",
      "501(c)19 – Non Profit Veterans                20.0           2.912820e+05   \n",
      "501(c)3 – Non Profit                         501.0           6.873462e+07   \n",
      "501(c)6 – Non Profit Membership              224.0           2.049108e+07   \n",
      "Cooperative                                  361.0           6.587629e+07   \n",
      "Corporation                               113282.0           1.654869e+10   \n",
      "Employee Stock Ownership Plan(ESOP)           72.0           3.908185e+07   \n",
      "Housing Co-op                                  2.0           1.857950e+04   \n",
      "Independent Contractors                    10074.0           1.175387e+08   \n",
      "Joint Venture                                 56.0           2.895075e+06   \n",
      "Limited  Liability Company(LLC)           119610.0           9.954364e+09   \n",
      "Limited Liability Partnership               3046.0           4.105412e+08   \n",
      "Non-Profit Childcare Center                  343.0           5.711948e+07   \n",
      "Non-Profit Organization                    15563.0           3.243336e+09   \n",
      "Partnership                                 5260.0           5.996264e+08   \n",
      "Professional Association                    2108.0           2.874522e+08   \n",
      "Qualified Joint-Venture (spouses)             14.0           2.216224e+05   \n",
      "Rollover as Business Start-Ups (ROB            1.0           6.300000e+03   \n",
      "Self-Employed Individuals                  13031.0           1.653256e+08   \n",
      "Single Member LLC                            469.0           7.357714e+06   \n",
      "Sole Proprietorship                        80450.0           1.442803e+09   \n",
      "Subchapter S Corporation                   51557.0           7.536581e+09   \n",
      "Tenant in Common                               4.0           1.435880e+05   \n",
      "Tribal Concerns                                1.0           3.161000e+03   \n",
      "Trust                                        189.0           3.333623e+07   \n",
      "UNKNOWN                                       46.0           4.562797e+06   \n",
      "\n",
      "                                     NLoansPercent  LoanAmtPercent  \n",
      "BusinessType                                                        \n",
      "501(c) – Non Profit except 3,4,6,         0.000005    6.161478e-06  \n",
      "501(c)19 – Non Profit Veterans            0.000048    7.173258e-06  \n",
      "501(c)3 – Non Profit                      0.001203    1.692694e-03  \n",
      "501(c)6 – Non Profit Membership           0.000538    5.046236e-04  \n",
      "Cooperative                               0.000867    1.622303e-03  \n",
      "Corporation                               0.272125    4.075365e-01  \n",
      "Employee Stock Ownership Plan(ESOP)       0.000173    9.624494e-04  \n",
      "Housing Co-op                             0.000005    4.575482e-07  \n",
      "Independent Contractors                   0.024200    2.894567e-03  \n",
      "Joint Venture                             0.000135    7.129558e-05  \n",
      "Limited  Liability Company(LLC)           0.287327    2.451412e-01  \n",
      "Limited Liability Partnership             0.007317    1.011020e-02  \n",
      "Non-Profit Childcare Center               0.000824    1.406653e-03  \n",
      "Non-Profit Organization                   0.037385    7.987205e-02  \n",
      "Partnership                               0.012636    1.476671e-02  \n",
      "Professional Association                  0.005064    7.078944e-03  \n",
      "Qualified Joint-Venture (spouses)         0.000034    5.457787e-06  \n",
      "Rollover as Business Start-Ups (ROB       0.000002    1.551470e-07  \n",
      "Self-Employed Individuals                 0.031303    4.071392e-03  \n",
      "Single Member LLC                         0.001127    1.811948e-04  \n",
      "Sole Proprietorship                       0.193257    3.553119e-02  \n",
      "Subchapter S Corporation                  0.123850    1.855997e-01  \n",
      "Tenant in Common                          0.000010    3.536070e-06  \n",
      "Tribal Concerns                           0.000002    7.784439e-08  \n",
      "Trust                                     0.000454    8.209549e-04  \n",
      "UNKNOWN                                   0.000111    1.123658e-04  \n"
     ]
    }
   ],
   "source": [
    "import loans_common2021 as co\n",
    "\n",
    "import pandas as pd\n",
    "import zipfile\n",
    "#from plotnine import *    # python lib to use ggplot\n",
    "from io import BytesIO\n",
    "from urllib.request import urlopen\n",
    "\n",
    "pd.set_option('max_columns', 100)\n",
    "\n",
    "naics = 'NAICS2'\n",
    "excsole = False\n",
    "\n",
    "fpath = '/Users/aligo/Downloads/FEMA recovery data/PPP_loans_from_SBA/'\\\n",
    "                                                    'FOIA 2021-04-01/'\n",
    "loansNE = co.ReadPPPdata(naics, fpath)"
   ]
  },
  {
   "cell_type": "markdown",
   "id": "636f8567",
   "metadata": {},
   "source": [
    "## Join County info into each loan "
   ]
  },
  {
   "cell_type": "code",
   "execution_count": 5,
   "id": "db5b2ffc",
   "metadata": {},
   "outputs": [
    {
     "name": "stdout",
     "output_type": "stream",
     "text": [
      "unique cities in loan dataset: 3408\n",
      "Unique matches: 1438\n",
      "Unique non-matches: 1970\n"
     ]
    },
    {
     "name": "stderr",
     "output_type": "stream",
     "text": [
      "/Users/aligo/git-repos/FEMA/loans_common2021.py:182: FutureWarning: The default value of regex will change from True to False in a future version.\n"
     ]
    },
    {
     "name": "stdout",
     "output_type": "stream",
     "text": [
      "loans in loan dataset: 416286\n",
      "loans with matches: 361698\n",
      "loans non-matches: 54588\n",
      "zip-county pairs in New Englad: 2496\n",
      "zip-county pairs in New England, deduplicated: 2206\n",
      "loans in loan dataset: 416286\n",
      "1st draw loans:  300860\n",
      "2nd draw loans:  115426\n",
      "After ZIP match: loans with matches:  416257\n",
      "After ZIP match: loans non-matches:  29\n",
      "MANUALLY FIX THE COUNTIES IN EXCEL FILE /Users/aligo/Downloads/FEMA recovery data/ppp addresses MISSwithall2021.xlsx\n",
      " AND CHANGE ITS NAME FROM MISS TO MANUAL\n"
     ]
    }
   ],
   "source": [
    "[loans_y, countyfips] = co.MatchCounties(loansNE, excsole, naics)"
   ]
  },
  {
   "cell_type": "markdown",
   "id": "1b977d21",
   "metadata": {},
   "source": [
    "### EXECUTE THIS COMMAND ONLY AFTER CHECKING THE EXCEL FILE OF UNMATCHED LOANS in Downloads/"
   ]
  },
  {
   "cell_type": "code",
   "execution_count": 6,
   "id": "0b2c3fbd",
   "metadata": {},
   "outputs": [
    {
     "name": "stdout",
     "output_type": "stream",
     "text": [
      "loans in loan dataset: 416286\n",
      "loans with matches: 416257\n",
      "loans non-matches: 29\n"
     ]
    }
   ],
   "source": [
    "loansc = co.AddManualCounties(loans_y, excsole, naics)"
   ]
  },
  {
   "cell_type": "markdown",
   "id": "ac3ff653",
   "metadata": {},
   "source": [
    "## TOTAL NUMBER OF BUSINESSES - read total number of businesses from US Census CBP"
   ]
  },
  {
   "cell_type": "code",
   "execution_count": 14,
   "id": "55a554fc",
   "metadata": {},
   "outputs": [],
   "source": [
    "url = urlopen(\"https://www2.census.gov/programs-surveys/cbp/datasets/2018/cbp18co.zip\")\n",
    "#Download Zipfile and create pandas DataFrame\n",
    "zipfile = zipfile.ZipFile(BytesIO(url.read()))\n",
    "cbp = pd.read_csv(zipfile.open('cbp18co.txt'), na_values='N')\n",
    "\n",
    "cbp['FIPST'] = cbp['fipstate'].astype(str).str.pad(2,fillchar='0')\n",
    "cbp['area_fips'] = cbp['FIPST'] + cbp['fipscty'].astype(str).str.pad(3,fillchar='0')\n",
    "cnt = cbp[cbp['FIPST'].isin(co.NEstfips)    # New England counties\n",
    "          & ~cbp['fipscty'].eq(999)      # exclude fipscty = 999 that are \"statewide\" totals\n",
    "          & cbp['naics'].str.contains('^[0-9][0-9]----',regex=True)]    # 2-digit NAICS codes\n",
    "cnt = cnt.assign( industry_code = cnt['naics'].str.slice(start=0,stop=2) )    # 2-digit NAICS codes, cleaned\n",
    "cnt['NEstabs'] = cnt[['n<5','n5_9','n10_19','n20_49','n50_99','n100_249','n250_499']\n",
    "                     ].sum(axis=1, skipna=True)         # num Establishments with < 500 employees\n",
    "cnt = cnt[['area_fips','industry_code','NEstabs']].set_index('area_fips')\n",
    "# Add state and county name\n",
    "cnt = cnt.join(countyfips.set_index('COUNTY'))\n",
    "\n",
    "# Join Total Num businesses + Num of loans\n",
    "cnt = cnt.reset_index()\n",
    "cnt.columns = ['COUNTYfips',naics,'NEstabs','State','COUNTYName']\n",
    "# adjusts 2-digit NAICS that are joint, e.g. NAICS 31-33 Manufacturing\n",
    "cnt = co.OverrideNAICS2(cnt)"
   ]
  },
  {
   "cell_type": "markdown",
   "id": "b5656387",
   "metadata": {},
   "source": [
    "### Subset scope of loans draws and calculate penetration; change from 1st draw (2020+2021) to 2nd draw"
   ]
  },
  {
   "cell_type": "code",
   "execution_count": 16,
   "id": "90d174aa",
   "metadata": {},
   "outputs": [
    {
     "name": "stdout",
     "output_type": "stream",
     "text": [
      "*** First draw (2020 and 2021) ***\n",
      "Total Number of PPP loans to New England excluding loans with missing info: 295651.0\n",
      "Total Count of businesses in NE: 393718.0\n",
      "Total Number of County-NAICS pairs in NE with existing businesses: 1251\n",
      "Previous Number with penetration > 1: 302\n",
      "Previous Number with penetration = 0: 24\n",
      "*** First draw (2020 only) ***\n",
      "Total Number of PPP loans to New England excluding loans with missing info: 254611.0\n",
      "Total Count of businesses in NE: 393718.0\n",
      "Total Number of County-NAICS pairs in NE with existing businesses: 1251\n",
      "Previous Number with penetration > 1: 195\n",
      "Previous Number with penetration = 0: 23\n",
      "*** Second draw (2021) ***\n",
      "Total Number of PPP loans to New England excluding loans with missing info: 113282.0\n",
      "Total Count of businesses in NE: 393718.0\n",
      "Total Number of County-NAICS pairs in NE with existing businesses: 1251\n",
      "Previous Number with penetration > 1: 46\n",
      "Previous Number with penetration = 0: 12\n",
      "*** Both draws (2021) ***\n",
      "Total Number of PPP loans to New England excluding loans with missing info: 154322.0\n",
      "Total Count of businesses in NE: 393718.0\n",
      "Total Number of County-NAICS pairs in NE with existing businesses: 1251\n",
      "Previous Number with penetration > 1: 86\n",
      "Previous Number with penetration = 0: 16\n",
      "Penetration table: 262 County-NAICS pairs with empty zipcode\n",
      "Penetration table: 0 County-NAICS pairs with empty zipcode\n"
     ]
    }
   ],
   "source": [
    "pen = co.CalcPenforScopes(loansc, naics, cnt)"
   ]
  },
  {
   "cell_type": "code",
   "execution_count": 17,
   "id": "00cc54c0",
   "metadata": {},
   "outputs": [],
   "source": [
    "pen.to_csv( '/Users/aligo/Downloads/FEMA recovery data/PPP_loans_from_SBA/PPPpenetration_2021_CBP_' + naics + '.csv' )"
   ]
  },
  {
   "cell_type": "code",
   "execution_count": null,
   "id": "368a00cc",
   "metadata": {},
   "outputs": [],
   "source": []
  }
 ],
 "metadata": {
  "kernelspec": {
   "display_name": "Python 3 (Spyder)",
   "language": "python3",
   "name": "python3"
  },
  "language_info": {
   "codemirror_mode": {
    "name": "ipython",
    "version": 3
   },
   "file_extension": ".py",
   "mimetype": "text/x-python",
   "name": "python",
   "nbconvert_exporter": "python",
   "pygments_lexer": "ipython3",
   "version": "3.7.6"
  }
 },
 "nbformat": 4,
 "nbformat_minor": 5
}
